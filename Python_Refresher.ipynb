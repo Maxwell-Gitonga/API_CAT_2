{
  "nbformat": 4,
  "nbformat_minor": 0,
  "metadata": {
    "colab": {
      "provenance": [],
      "authorship_tag": "ABX9TyMIKseDt2D8tMEJn736ivdr",
      "include_colab_link": true
    },
    "kernelspec": {
      "name": "python3",
      "display_name": "Python 3"
    },
    "language_info": {
      "name": "python"
    }
  },
  "cells": [
    {
      "cell_type": "markdown",
      "metadata": {
        "id": "view-in-github",
        "colab_type": "text"
      },
      "source": [
        "<a href=\"https://colab.research.google.com/github/Maxwell-Gitonga/API_CAT_2/blob/main/Python_Refresher.ipynb\" target=\"_parent\"><img src=\"https://colab.research.google.com/assets/colab-badge.svg\" alt=\"Open In Colab\"/></a>"
      ]
    },
    {
      "cell_type": "code",
      "source": [
        "#Question 4:"
      ],
      "metadata": {
        "id": "tWgMn5CdnfGP"
      },
      "execution_count": null,
      "outputs": []
    },
    {
      "cell_type": "code",
      "source": [
        "#Question 3: Calculate area and perimeter of a squareusing functions\n",
        "side = float(input(\"Enter dimension!:\"))\n",
        "area = side * side\n",
        "perimeter = side * 4\n",
        "\n",
        "print(area)\n",
        "print(perimeter)"
      ],
      "metadata": {
        "colab": {
          "base_uri": "https://localhost:8080/"
        },
        "id": "5tJY9NPwlnH5",
        "outputId": "3be1e785-f41f-4de9-d936-1a6e1368f277"
      },
      "execution_count": null,
      "outputs": [
        {
          "output_type": "stream",
          "name": "stdout",
          "text": [
            "Enter dimension!:2\n",
            "4.0\n",
            "8.0\n"
          ]
        }
      ]
    },
    {
      "cell_type": "code",
      "execution_count": null,
      "metadata": {
        "id": "JivtIxVpr7fo",
        "colab": {
          "base_uri": "https://localhost:8080/"
        },
        "outputId": "1b5cb275-1674-4b19-d529-fa59a0cdd2d7"
      },
      "outputs": [
        {
          "output_type": "stream",
          "name": "stdout",
          "text": [
            "Input radius!:2\n",
            "66.98666666666666\n"
          ]
        }
      ],
      "source": [
        "  #Question 2 : Calculate volume of a sphere\n",
        "  radius = int(input(\"Input radius!:\"))\n",
        "  volume = radius * 4/3 * 3.14 * radius * radius * radius\n",
        "  print(volume)"
      ]
    },
    {
      "cell_type": "code",
      "source": [
        "#Question 2: Convert days into seconds"
      ],
      "metadata": {
        "id": "HNWbjanKidh3"
      },
      "execution_count": null,
      "outputs": []
    },
    {
      "cell_type": "code",
      "source": [
        "days = int(input(\"Enter number of days!:\")) #Request input of number of days\n",
        "seconds = days * 24 * 60 * 60  #Convert days to seconds\n",
        "print(seconds)"
      ],
      "metadata": {
        "colab": {
          "base_uri": "https://localhost:8080/"
        },
        "collapsed": true,
        "id": "kOGnFHkgijGw",
        "outputId": "800cf27e-f21f-4789-cf8b-ca22d7b79462"
      },
      "execution_count": null,
      "outputs": [
        {
          "output_type": "stream",
          "name": "stdout",
          "text": [
            "Enter number of days!:2\n",
            "172800\n"
          ]
        }
      ]
    }
  ]
}